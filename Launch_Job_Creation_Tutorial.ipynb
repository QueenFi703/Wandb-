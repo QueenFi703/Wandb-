{
  "nbformat": 4,
  "nbformat_minor": 0,
  "metadata": {
    "colab": {
      "private_outputs": true,
      "provenance": [],
      "include_colab_link": true
    },
    "kernelspec": {
      "name": "python3",
      "display_name": "Python 3"
    },
    "language_info": {
      "name": "python"
    },
    "gpuClass": "standard"
  },
  "cells": [
    {
      "cell_type": "markdown",
      "metadata": {
        "id": "view-in-github",
        "colab_type": "text"
      },
      "source": [
        "<a href=\"https://colab.research.google.com/github/QueenFi703/Wandb-/blob/main/Launch_Job_Creation_Tutorial.ipynb\" target=\"_parent\"><img src=\"https://colab.research.google.com/assets/colab-badge.svg\" alt=\"Open In Colab\"/></a>"
      ]
    },
    {
      "cell_type": "markdown",
      "source": [
        "# W&B Job Creation Quickstart\n",
        "\n",
        "Learn how to create reusable jobs from W&B, which can be executed on different ML environments using Launch. This can be useful for:\n",
        "\n",
        "- Model evaluation — define suites of tests to run on promising new model variants\n",
        "- Retraining and fine tuning — repeat training or fine tuning on larger hardware or multiple nodes\n",
        "- Scaled out hyperparameter sweeps — use larger machines, and more of them, to accelerate hyperparameter tuning.\n",
        "\n",
        "Here, we'll go through [several ways](https://docs.wandb.ai/ref/cli/wandb-job/wandb-job-create) to a create a reusable job, using a FMNIST training job. (See more example jobs [here](https://github.com/wandb/launch-jobs/tree/main/jobs) or at https://wandb.ai/wandb/jobs/jobs )\n",
        "\n",
        "In this quickstart we will:\n",
        "1. Create a job from a **local directory**.\n",
        "1. Create a job from a **Github repo**.\n",
        "1. Create a job from a **training run**.\n",
        "1. Create a **queue**.\n",
        "1. Start an **agent**.\n",
        "1. **Launch** the jobs!\n",
        "\n",
        "From here, you'll be able to see it all working in the GUI and take the next step to scaling your ML work on powerful infrastructure.\n"
      ],
      "metadata": {
        "id": "jhm3qUUxk69o"
      }
    },
    {
      "cell_type": "code",
      "source": [],
      "metadata": {
        "id": "IOyzLSpGBRVS"
      },
      "execution_count": null,
      "outputs": []
    },
    {
      "cell_type": "markdown",
      "source": [
        "# Set up W&B to get started"
      ],
      "metadata": {
        "id": "zJYa4gqC-0M-"
      }
    },
    {
      "cell_type": "code",
      "execution_count": null,
      "metadata": {
        "id": "UWoFnvBGKIgQ"
      },
      "outputs": [],
      "source": [
        "# Install W&B\n",
        "!pip install wandb > 0.17.0 -qqq"
      ]
    },
    {
      "cell_type": "code",
      "source": [
        "# prompt: A slider using Jupyter widgets\n",
        "\n",
        "import ipywidgets as widgets\n",
        "from IPython.display import display\n",
        "\n",
        "slider = widgets.IntSlider(\n",
        "    value=7,\n",
        "    min=0,\n",
        "    max=10,\n",
        "    step=1,\n",
        "    description='Test:',\n",
        "    disabled=False,\n",
        "    continuous_update=False,\n",
        "    orientation='horizontal',\n",
        "    readout=True,\n",
        "    readout_format='d'\n",
        ")\n",
        "\n",
        "display(slider)"
      ],
      "metadata": {
        "id": "ia5GM6odBrtX"
      },
      "execution_count": null,
      "outputs": []
    },
    {
      "cell_type": "code",
      "source": [
        "# Log in to your free W&B Account\n",
        "import wandb\n",
        "wandb.login()"
      ],
      "metadata": {
        "id": "SEjC8XAwHgeT"
      },
      "execution_count": null,
      "outputs": []
    },
    {
      "cell_type": "code",
      "source": [],
      "metadata": {
        "id": "PLwfaxX0Bm-P"
      },
      "execution_count": null,
      "outputs": []
    },
    {
      "cell_type": "code",
      "source": [
        "WB_PROJECT = \"job-creation-demo\"\n",
        "WB_ENTITY = \"wandb-smle\" # Add your entity"
      ],
      "metadata": {
        "id": "aJ7K9T2UjuDn"
      },
      "execution_count": null,
      "outputs": []
    },
    {
      "cell_type": "markdown",
      "source": [
        "# 1) Create a Job from a **local directory**\n",
        "\n",
        "Clone the example job repository."
      ],
      "metadata": {
        "id": "tVR5Zn90h0pP"
      }
    },
    {
      "cell_type": "code",
      "source": [
        "!git clone https://github.com/wandb/launch-jobs.git"
      ],
      "metadata": {
        "id": "SN5LiAgHkdJD"
      },
      "execution_count": null,
      "outputs": []
    },
    {
      "cell_type": "markdown",
      "source": [
        "Now run this command to create a job:\n",
        "\n",
        "\n"
      ],
      "metadata": {
        "id": "ADI8bXCXlJNn"
      }
    },
    {
      "cell_type": "code",
      "source": [
        "! wandb job create -p $WB_PROJECT -e $WB_ENTITY -n \"fashion-mnist-train\" code launch-jobs/jobs/fashion_mnist_train -E 'job.py'"
      ],
      "metadata": {
        "id": "3jpU6QMrlONq"
      },
      "execution_count": null,
      "outputs": []
    },
    {
      "cell_type": "markdown",
      "source": [
        "You now have a job created and ready to launch.  If you want to skip right to launching, go to step 4.  Otherwise, try two other ways to create jobs."
      ],
      "metadata": {
        "id": "4OqGaF1Jw34m"
      }
    },
    {
      "cell_type": "markdown",
      "source": [
        "# 2) Create a job from a **Github repo**\n",
        "When you run the command below, W&B will build a job from this public repo."
      ],
      "metadata": {
        "id": "MvaJJz_wkfwT"
      }
    },
    {
      "cell_type": "code",
      "source": [
        "! wandb job create -p $WB_PROJECT -e $WB_ENTITY -n \"First_Git_Job\" git https://github.com/wandb/launch-jobs/tree/main/jobs/fashion_mnist_train -E 'job.py'"
      ],
      "metadata": {
        "id": "BMnOMOGoKK4u"
      },
      "execution_count": null,
      "outputs": []
    },
    {
      "cell_type": "markdown",
      "source": [
        "# 3) Create a job from **existing training code**\n",
        "\n",
        "Next, we're going to create a job by logging the code to W&B.  We'll create a tiny sample Python script, which will be used to create a W&B job using `log_code()`."
      ],
      "metadata": {
        "id": "cT2gcK2Imdz6"
      }
    },
    {
      "cell_type": "code",
      "source": [
        "demo_job = \"\"\"\n",
        "import wandb\n",
        "import random\n",
        "\n",
        "with wandb.init(project=\"fmnist_job_tutorial\") as run:\n",
        "  run.log({\"eval_metric\": random.random()})\n",
        "  print(\"This job could run an Optuna Study automatically, for example.\")\n",
        "  run.log_code()\n",
        "\"\"\"\n",
        "\n",
        "with open('demo_job.py', 'w+') as file:\n",
        "  file.write(demo_job)\n",
        "\n",
        "requirements = \"\"\"\n",
        "wandb\n",
        "random\n",
        "\"\"\"\n",
        "\n",
        "with open('requirements.txt', 'w+') as file:\n",
        "  file.write(requirements)"
      ],
      "metadata": {
        "id": "qqVWqOeOmdFl"
      },
      "execution_count": null,
      "outputs": []
    },
    {
      "cell_type": "markdown",
      "source": [
        "Now run the training code."
      ],
      "metadata": {
        "id": "ZHlwYCGFvk_u"
      }
    },
    {
      "cell_type": "code",
      "source": [
        "!python demo_job.py"
      ],
      "metadata": {
        "id": "ZMnmPns6l_zN"
      },
      "execution_count": null,
      "outputs": []
    },
    {
      "cell_type": "markdown",
      "source": [
        "# 4) Create a Launch Queue\n",
        "\n",
        "Now let's create a queue to run these Jobs on. Queues are our interface into ML infrastructure — W&B supports Kubernetes, Sagemaker, and Docker queues (the latter being most useful for individual workstations).\n"
      ],
      "metadata": {
        "id": "OAgUeQgInzCd"
      }
    },
    {
      "cell_type": "code",
      "source": [
        "import json\n",
        "config ={\"label\":\"tutorial-test\"}\n",
        "api = wandb.Api()\n",
        "queue = api.create_run_queue('tutorial-run-queue', 'local-container', prioritization_mode='V0', entity=WB_ENTITY, config=config)"
      ],
      "metadata": {
        "id": "fEE8r1M4cpry"
      },
      "execution_count": null,
      "outputs": []
    },
    {
      "cell_type": "markdown",
      "source": [
        "# 5) Start an Agent\n",
        "\n",
        "The agent will pull down Jobs from the queue to run in Docker containers — install and start [Docker](https://www.docker.com/products/docker-desktop/) to use the agent on your laptop.\n",
        "\n",
        "\n",
        "## 💻 `in your laptop terminal`\n",
        "```shell\n",
        "pip install wandb --upgrade\n",
        "wandb login\n",
        "wandb launch-agent -q tutorial-run-queue\n",
        "```"
      ],
      "metadata": {
        "id": "AdQ6R120mXyj"
      }
    },
    {
      "cell_type": "markdown",
      "source": [
        "# 6) Launch the job\n",
        "\n",
        "Now we're all set to launch the job.  Run the command below, then look over at your terminal to see the job in progress."
      ],
      "metadata": {
        "id": "E6smbb7f1apv"
      }
    },
    {
      "cell_type": "code",
      "source": [
        "! wandb launch -j \"$WB_ENTITY/$WB_PROJECT/fashion-mnist-train:latest\" -q tutorial-run-queue"
      ],
      "metadata": {
        "id": "-6mysEhceoDu"
      },
      "execution_count": null,
      "outputs": []
    },
    {
      "cell_type": "markdown",
      "source": [
        "# 🎉 You did it! 🎉\n",
        "\n",
        "You registered a job and ran it using Launch! If you go to your project, you'll see a new run corresponding to the job you just ran.\n",
        "\n",
        "To run a hyperparameter sweep on your queue--with condition configuration and multi-objective optimization--jump over to [this notebook](https://colab.research.google.com/drive/1WxLKaJlltThgZyhc7dcZhDQ6cjVQDfil#scrollTo=sHcr30CKybN7).  \n"
      ],
      "metadata": {
        "id": "RaqLPTOSOqgA"
      }
    }
  ]
}